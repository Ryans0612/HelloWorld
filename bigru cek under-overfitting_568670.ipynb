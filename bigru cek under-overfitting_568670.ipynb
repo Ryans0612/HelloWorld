{
 "cells": [
  {
   "cell_type": "code",
   "execution_count": 1,
   "id": "4bb548d4",
   "metadata": {},
   "outputs": [
    {
     "name": "stdout",
     "output_type": "stream",
     "text": [
      "Jumlah baris data: 568670\n",
      "Jumlah kapal: 1403\n"
     ]
    }
   ],
   "source": [
    "import pandas as pd\n",
    "\n",
    "file_path = \"D:/Data STATBIS ITS/TUGAS AKHIR/preprocessing data/preprocessed_568670.csv\"\n",
    "\n",
    "# Membaca file CSV ke dalam DataFrame\n",
    "data_frame = pd.read_csv(file_path)\n",
    "\n",
    "# Menghitung jumlah baris data\n",
    "jumlah_baris = data_frame.shape[0]\n",
    "\n",
    "# Menampilkan jumlah baris dan jumlah kapal\n",
    "print(\"Jumlah baris data:\", jumlah_baris)\n",
    "\n",
    "jumlah_kapal = data_frame['msg_mmsi'].nunique()\n",
    "print(\"Jumlah kapal:\", jumlah_kapal)"
   ]
  },
  {
   "cell_type": "code",
   "execution_count": 2,
   "id": "69a07be5",
   "metadata": {},
   "outputs": [
    {
     "name": "stdout",
     "output_type": "stream",
     "text": [
      "Daftar kolom:\n",
      "Index(['msg_mmsi', 'msg_kind', 'msg_repeat', 'data_lat', 'data_lon',\n",
      "       'data_nav', 'data_rot', 'data_sog', 'data_cog', 'data_head', 'data_utc',\n",
      "       'dt_last', 'ship_name', 'ship_csign', 'shipkind_id', 'shipflag_id',\n",
      "       'ship_gt', 'ship_dwt', 'ship_lbp', 'ship_loa', 'ship_draft',\n",
      "       'ship_depth', 'ship_beam', 'ship_build_int', 'ship_build_str',\n",
      "       'ship_class', 'shipkind_name', 'flag_name\\', 'dt_date time1',\n",
      "       'dt_date time2', 'dt_date.time1', 'continuous_trip', 'distance',\n",
      "       'time_diff_seconds', 'empirical_speed'],\n",
      "      dtype='object')\n"
     ]
    }
   ],
   "source": [
    "print(\"Daftar kolom:\")\n",
    "print(data_frame.columns)"
   ]
  },
  {
   "cell_type": "code",
   "execution_count": 3,
   "id": "8e580129",
   "metadata": {},
   "outputs": [
    {
     "name": "stdout",
     "output_type": "stream",
     "text": [
      "Summary data:\n",
      "           msg_mmsi       msg_kind  msg_repeat       data_lat       data_lon  \\\n",
      "count  5.686700e+05  568670.000000    568670.0  568670.000000  568670.000000   \n",
      "mean   5.171715e+08       4.289154         0.0      -5.904608     106.053657   \n",
      "std    5.240261e+07       6.038226         0.0       0.133165       0.243528   \n",
      "min    1.234568e+08       1.000000         0.0      -7.045150     104.631100   \n",
      "25%    5.250071e+08       1.000000         0.0      -5.962510     105.963630   \n",
      "50%    5.250194e+08       1.000000         0.0      -5.935000     105.995680   \n",
      "75%    5.251060e+08       3.000000         0.0      -5.882320     106.112250   \n",
      "max    8.100160e+08      19.000000         0.0      -5.087190     107.459870   \n",
      "\n",
      "            data_nav       data_rot       data_sog       data_cog  \\\n",
      "count  568670.000000  568670.000000  568670.000000  568670.000000   \n",
      "mean        2.160974     -63.076718       2.041381     182.020836   \n",
      "std         3.873036      65.531469       3.879322     107.612711   \n",
      "min         0.000000    -128.000000       0.000000       0.000000   \n",
      "25%         0.000000    -128.000000       0.000000      89.000000   \n",
      "50%         0.000000      -6.000000       0.000000     191.000000   \n",
      "75%         1.000000       0.000000       2.000000     276.000000   \n",
      "max        15.000000     127.000000      29.500000     362.000000   \n",
      "\n",
      "           data_head  ...       ship_lbp       ship_loa     ship_draft  \\\n",
      "count  568670.000000  ...  568670.000000  568670.000000  568670.000000   \n",
      "mean      366.425535  ...      49.535704      82.956744       4.208008   \n",
      "std       194.190950  ...      67.752421      74.448635       4.172263   \n",
      "min         0.000000  ...       0.000000       0.000000       0.000000   \n",
      "25%       170.000000  ...       0.000000       0.000000       0.000000   \n",
      "50%       511.000000  ...       0.000000      95.460000       4.200000   \n",
      "75%       511.000000  ...     100.029999     120.540000       5.960000   \n",
      "max       511.000000  ...     345.600006    1200.000000      23.200000   \n",
      "\n",
      "          ship_depth      ship_beam  ship_build_int  continuous_trip  \\\n",
      "count  568670.000000  568670.000000    5.686700e+05    568670.000000   \n",
      "mean        4.348814      14.123874    6.775549e+08         0.012074   \n",
      "std         6.203968      11.988017    5.743115e+08         0.109216   \n",
      "min         0.000000       0.000000   -1.262556e+08         0.000000   \n",
      "25%         0.000000       0.000000    0.000000e+00         0.000000   \n",
      "50%         0.000000      16.000000    6.941988e+08         0.000000   \n",
      "75%         7.500000      20.400000    1.262279e+09         0.000000   \n",
      "max        34.799999      70.000000    1.577812e+09         1.000000   \n",
      "\n",
      "            distance  time_diff_seconds  empirical_speed  \n",
      "count  568670.000000       5.686700e+05    568670.000000  \n",
      "mean        0.384981       1.701615e+03         3.517440  \n",
      "std         2.378241       3.073114e+04         7.197180  \n",
      "min         0.000000       6.000000e+01         0.000000  \n",
      "25%         0.002484       1.200000e+02         0.033358  \n",
      "50%         0.006636       1.800000e+02         0.094097  \n",
      "75%         0.134553       4.200000e+02         2.429716  \n",
      "max       245.777318       2.126280e+06        74.018437  \n",
      "\n",
      "[8 rows x 26 columns]\n"
     ]
    }
   ],
   "source": [
    "# Menampilkan summary data\n",
    "print(\"Summary data:\")\n",
    "print(data_frame.describe())"
   ]
  },
  {
   "cell_type": "code",
   "execution_count": 4,
   "id": "cb213b1b",
   "metadata": {},
   "outputs": [
    {
     "name": "stdout",
     "output_type": "stream",
     "text": [
      "Jumlah baris data: 567267\n",
      "Jumlah kapal: 1403\n",
      "    msg_mmsi  msg_kind  msg_repeat  data_lat   data_lon  data_nav  data_rot  \\\n",
      "0  123456780        18           0  -5.93026  106.11832         0       0.0   \n",
      "1  123456780        18           0  -5.92991  106.11807         0       0.0   \n",
      "2  123456780        18           0  -5.92918  106.11695         0       0.0   \n",
      "3  123456780        18           0  -5.92944  106.11706         0       0.0   \n",
      "4  123456780        18           0  -5.92838  106.11842         0       0.0   \n",
      "\n",
      "   data_sog  data_cog  data_head  ...  flag_name\\         dt_date time1  \\\n",
      "0       2.0        18        511  ...       NULL\\   05/13/2021 03:59 PM   \n",
      "1       1.0       327        511  ...       NULL\\   05/13/2021 04:03 PM   \n",
      "2       0.5        13        511  ...       NULL\\   05/13/2021 04:07 PM   \n",
      "3       1.0       152        511  ...       NULL\\   05/13/2021 04:10 PM   \n",
      "4       1.0        31        511  ...       NULL\\   05/13/2021 04:16 PM   \n",
      "\n",
      "         dt_date time2        dt_date.time1  continuous_trip  distance  \\\n",
      "0  05/13/2021 15:59:24  2021-05-13 15:59:00                0  0.552687   \n",
      "1  05/13/2021 16:03:51  2021-05-13 16:03:00                0  0.047740   \n",
      "2  05/13/2021 16:07:55  2021-05-13 16:07:00                0  0.148099   \n",
      "3  05/13/2021 16:10:07  2021-05-13 16:10:00                0  0.031366   \n",
      "4  05/13/2021 16:16:57  2021-05-13 16:16:00                0  0.191096   \n",
      "\n",
      "   time_diff_seconds  empirical_speed  Data_lat_next  Data_lon_next  \n",
      "0              420.0         4.737321       -5.92991      106.11807  \n",
      "1              240.0         0.716107       -5.92918      106.11695  \n",
      "2              240.0         2.221480       -5.92944      106.11706  \n",
      "3              180.0         0.627324       -5.92838      106.11842  \n",
      "4              360.0         1.910957       -5.92677      106.11947  \n",
      "\n",
      "[5 rows x 37 columns]\n"
     ]
    }
   ],
   "source": [
    "import pandas as pd\n",
    "\n",
    "# Memisahkan data antar kapal berdasarkan 'msg_mmsi'\n",
    "kapal_data = []\n",
    "for mmsi, group_data in data_frame.groupby('msg_mmsi'):\n",
    "    kapal_data.append(group_data)\n",
    "\n",
    "# Menghitung lintasan selanjutnya untuk setiap kapal\n",
    "for kapal in kapal_data:\n",
    "    kapal['Data_lat_next'] = kapal['data_lat'].shift(-1)\n",
    "    kapal['Data_lon_next'] = kapal['data_lon'].shift(-1)\n",
    "\n",
    "# Menghapus baris terakhir yang tidak memiliki lintasan selanjutnya untuk setiap kapal\n",
    "kapal_cleaned_data = []\n",
    "for kapal in kapal_data:\n",
    "    kapal_cleaned = kapal.dropna(subset=['Data_lat_next', 'Data_lon_next'])\n",
    "    kapal_cleaned_data.append(kapal_cleaned)\n",
    "\n",
    "# Menggabungkan semua DataFrames dalam list kapal_cleaned_data\n",
    "data_frame_gabung = pd.concat(kapal_cleaned_data, ignore_index=True)\n",
    "\n",
    "# Menghitung jumlah baris data\n",
    "jumlah_baris = data_frame_gabung.shape[0]\n",
    "\n",
    "# Menampilkan jumlah baris dan jumlah kapal\n",
    "print(\"Jumlah baris data:\", jumlah_baris)\n",
    "\n",
    "jumlah_kapal = data_frame_gabung['msg_mmsi'].nunique()\n",
    "print(\"Jumlah kapal:\", jumlah_kapal)\n",
    "\n",
    "# data_frame_gabung berisi semua data kapal yang telah diubah dan dibersihkan\n",
    "print(data_frame_gabung.head())"
   ]
  },
  {
   "cell_type": "code",
   "execution_count": 5,
   "id": "fe9f8856",
   "metadata": {},
   "outputs": [
    {
     "name": "stdout",
     "output_type": "stream",
     "text": [
      "Epoch 1/20\n",
      "5673/5673 [==============================] - 61s 10ms/step - loss: 221.5597 - val_loss: 0.0383\n",
      "Epoch 2/20\n",
      "5673/5673 [==============================] - 54s 9ms/step - loss: 0.0357 - val_loss: 0.0241\n",
      "Epoch 3/20\n",
      "5673/5673 [==============================] - 55s 10ms/step - loss: 0.0100 - val_loss: 0.0047\n",
      "Epoch 4/20\n",
      "5673/5673 [==============================] - 60s 11ms/step - loss: 0.0019 - val_loss: 0.0013\n",
      "Epoch 5/20\n",
      "5673/5673 [==============================] - 62s 11ms/step - loss: 6.9107e-04 - val_loss: 4.5336e-04\n",
      "Epoch 6/20\n",
      "5673/5673 [==============================] - 65s 11ms/step - loss: 5.7757e-04 - val_loss: 3.7316e-04\n",
      "Epoch 7/20\n",
      "5673/5673 [==============================] - 61s 11ms/step - loss: 5.2863e-04 - val_loss: 3.3107e-04\n",
      "Epoch 8/20\n",
      "5673/5673 [==============================] - 59s 10ms/step - loss: 4.9443e-04 - val_loss: 3.5821e-04\n",
      "Epoch 9/20\n",
      "5673/5673 [==============================] - 62s 11ms/step - loss: 4.7740e-04 - val_loss: 3.4021e-04\n",
      "Epoch 10/20\n",
      "5673/5673 [==============================] - 62s 11ms/step - loss: 4.6279e-04 - val_loss: 3.5087e-04\n",
      "3546/3546 [==============================] - 11s 3ms/step - loss: 2.8460e-04\n",
      "MSE: 0.0002846\n",
      "3546/3546 [==============================] - 12s 3ms/step\n",
      "MAE: 0.0055587\n",
      "MAPE: 0.04183142\n",
      "R-squared: 0.99055919\n"
     ]
    }
   ],
   "source": [
    "import pandas as pd\n",
    "import numpy as np\n",
    "import matplotlib.pyplot as plt\n",
    "from sklearn.metrics import mean_absolute_error, r2_score\n",
    "from sklearn.model_selection import train_test_split\n",
    "from sklearn.preprocessing import MinMaxScaler\n",
    "from tensorflow.keras.models import Sequential\n",
    "from tensorflow.keras.layers import Bidirectional, GRU, Dense\n",
    "from tensorflow.keras.losses import MeanSquaredError\n",
    "from tensorflow.keras.callbacks import EarlyStopping\n",
    "\n",
    "# Memilih fitur input dan output yang relevan\n",
    "# Mengubah kolom tanggal-waktu menjadi datetime\n",
    "data_frame_gabung['dt_date.time1'] = pd.to_datetime(data_frame_gabung['dt_date.time1'])\n",
    "\n",
    "# Membuat fitur baru\n",
    "data_frame_gabung['hour'] = data_frame_gabung['dt_date.time1'].dt.hour\n",
    "data_frame_gabung['day'] = data_frame_gabung['dt_date.time1'].dt.day\n",
    "data_frame_gabung['month'] = data_frame_gabung['dt_date.time1'].dt.month\n",
    "data_frame_gabung['year'] = data_frame_gabung['dt_date.time1'].dt.year\n",
    "\n",
    "# Memilih fitur input dan output\n",
    "input_features = ['msg_mmsi','data_lat', 'data_lon', 'data_nav','data_rot', 'data_sog', 'data_cog', 'data_head', 'hour', 'day', 'month', 'year']\n",
    "output_features = ['Data_lat_next', 'Data_lon_next'] \n",
    "\n",
    "# Memisahkan fitur input dan output\n",
    "X = data_frame_gabung[input_features].values\n",
    "y = data_frame_gabung[output_features].values\n",
    "\n",
    "# Membagi data menjadi set pelatihan dan pengujian\n",
    "X_train, X_test, y_train, y_test = train_test_split(X, y, test_size=0.2, random_state=42)\n",
    "\n",
    "# Skalasi fitur input (dalam rentang 0-1)\n",
    "scaler = MinMaxScaler()\n",
    "X_train_scaled = scaler.fit_transform(X_train)\n",
    "X_test_scaled = scaler.transform(X_test)\n",
    "\n",
    "# Menentukan dimensi timestep\n",
    "timestep = X_train_scaled.shape[1]\n",
    "\n",
    "# Membangun model Bi-GRU\n",
    "model = Sequential()\n",
    "model.add(Bidirectional(GRU(units=24, return_sequences=True), input_shape=(timestep, 1)))\n",
    "model.add(Bidirectional(GRU(units=24)))\n",
    "model.add(Dense(units=12, activation='relu'))\n",
    "model.add(Dense(units=len(output_features)))\n",
    "\n",
    "# Mengompilasi model\n",
    "model.compile(optimizer='adam', loss=MeanSquaredError())\n",
    "\n",
    "# Early stopping untuk menghentikan pelatihan jika tidak ada peningkatan yang signifikan dalam validasi loss\n",
    "early_stopping = EarlyStopping(patience=3, restore_best_weights=True)\n",
    "\n",
    "# Melatih model dengan penyesuaian parameter\n",
    "history = model.fit(X_train_scaled, y_train, epochs=20, batch_size=64, validation_split=0.2, callbacks=[early_stopping])\n",
    "\n",
    "# Evaluasi model\n",
    "mse = model.evaluate(X_test_scaled, y_test)\n",
    "mse = round(mse, 8)\n",
    "print(\"MSE:\", mse)\n",
    "\n",
    "# Prediksi menggunakan model\n",
    "y_pred = model.predict(X_test_scaled)\n",
    "\n",
    "# Menghitung MAE (Mean Absolute Error)\n",
    "mae = mean_absolute_error(y_test, y_pred)\n",
    "mae = round(mae, 8)\n",
    "print(\"MAE:\", mae)\n",
    "\n",
    "# Menghitung MAPE (Mean Absolute Percentage Error)\n",
    "mape = np.mean(np.abs((y_test - y_pred) / y_test)) * 100\n",
    "mape = round(mape, 8)\n",
    "print(\"MAPE:\", mape)\n",
    "\n",
    "# Menghitung R-squared\n",
    "r2 = r2_score(y_test, y_pred)\n",
    "r2 = round(r2, 8)\n",
    "print(\"R-squared:\", r2)"
   ]
  },
  {
   "cell_type": "code",
   "execution_count": 1,
   "id": "802a7ceb",
   "metadata": {},
   "outputs": [
    {
     "data": {
      "image/png": "[encoded data removed]",
      "text/plain": [
       "<Figure size 1200x600 with 1 Axes>"
      ]
     },
     "metadata": {},
     "output_type": "display_data"
    }
   ],
   "source": [
    "import matplotlib.pyplot as plt\n",
    "\n",
    "# Data loss dan validation loss\n",
    "loss = [221.5597, 0.0357, 0.0100, 0.0019, 6.9107e-04, 5.7757e-04, 5.2863e-04, 4.9443e-04, 4.7740e-04, 4.6279e-04]\n",
    "val_loss = [0.0383, 0.0241, 0.0047, 0.0013, 4.5336e-04, 3.7316e-04, 3.3107e-04, 3.5821e-04, 3.4021e-04, 3.5087e-04]\n",
    "epochs = range(1, len(loss) + 1)\n",
    "\n",
    "# Plot loss dan val loss dengan skala logaritmik pada sumbu Y\n",
    "plt.figure(figsize=(12, 6))\n",
    "plt.semilogy(epochs, loss, label='Loss')\n",
    "plt.semilogy(epochs, val_loss, label='Validation Loss')\n",
    "plt.xlabel('Epoch')\n",
    "plt.ylabel('Loss (log scale)')\n",
    "plt.legend()\n",
    "plt.title('Loss and Validation Loss (Log Scale)')\n",
    "\n",
    "# Menyesuaikan batasan sumbu Y\n",
    "plt.ylim([1e-5, 1e1])\n",
    "\n",
    "# Menyimpan visualisasi ke dalam file gambar HD\n",
    "output_file_path = \"loss_valloss.png\"\n",
    "plt.savefig(output_file_path, dpi=300, bbox_inches='tight')\n",
    "\n",
    "plt.show()"
   ]
  },
  {
   "cell_type": "code",
   "execution_count": 7,
   "id": "cd4afe95",
   "metadata": {},
   "outputs": [
    {
     "name": "stderr",
     "output_type": "stream",
     "text": [
      "C:\\Users\\LENOVO\\anaconda3\\lib\\site-packages\\keras\\src\\engine\\training.py:3000: UserWarning: You are saving your model as an HDF5 file via `model.save()`. This file format is considered legacy. We recommend using instead the native Keras format, e.g. `model.save('my_model.keras')`.\n",
      "  saving_api.save_model(\n"
     ]
    },
    {
     "data": {
      "text/plain": [
       "['scaler.pkl']"
      ]
     },
     "execution_count": 7,
     "metadata": {},
     "output_type": "execute_result"
    }
   ],
   "source": [
    "# Menyimpan model ke dalam file HDF5\n",
    "model.save(\"model_bigru568670.h5\")\n",
    "\n",
    "# Opsional: Menyimpan skalar MinMax untuk penggunaan di masa depan\n",
    "import joblib\n",
    "\n",
    "joblib.dump(scaler, \"scaler.pkl\")"
   ]
  },
  {
   "cell_type": "code",
   "execution_count": null,
   "id": "518f2036",
   "metadata": {},
   "outputs": [],
   "source": []
  }
 ],
 "metadata": {
  "kernelspec": {
   "display_name": "Python 3 (ipykernel)",
   "language": "python",
   "name": "python3"
  },
  "language_info": {
   "codemirror_mode": {
    "name": "ipython",
    "version": 3
   },
   "file_extension": ".py",
   "mimetype": "text/x-python",
   "name": "python",
   "nbconvert_exporter": "python",
   "pygments_lexer": "ipython3",
   "version": "3.10.9"
  }
 },
 "nbformat": 4,
 "nbformat_minor": 5
}
