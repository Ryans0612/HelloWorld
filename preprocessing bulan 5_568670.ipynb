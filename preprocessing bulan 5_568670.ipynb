{
 "cells": [
  {
   "cell_type": "code",
   "execution_count": 1,
   "id": "e91dc431",
   "metadata": {},
   "outputs": [
    {
     "name": "stdout",
     "output_type": "stream",
     "text": [
      "Jumlah baris data: 7768690\n"
     ]
    }
   ],
   "source": [
    "import pandas as pd\n",
    "\n",
    "file_path = 'D:/Data STATBIS ITS/TUGAS AKHIR/April-July2021_Sunda.csv'\n",
    "\n",
    "# Membaca file CSV ke dalam DataFrame\n",
    "data_frame = pd.read_csv(file_path)\n",
    "\n",
    "# Menghitung jumlah baris data\n",
    "jumlah_baris = data_frame.shape[0]\n",
    "\n",
    "# Menampilkan jumlah baris\n",
    "print(\"Jumlah baris data:\", jumlah_baris)"
   ]
  },
  {
   "cell_type": "code",
   "execution_count": 2,
   "id": "f6ed6fab",
   "metadata": {},
   "outputs": [
    {
     "name": "stdout",
     "output_type": "stream",
     "text": [
      "Jumlah kapal: 3013\n"
     ]
    }
   ],
   "source": [
    "jumlah_kapal = data_frame['msg_mmsi'].nunique()\n",
    "print(\"Jumlah kapal:\", jumlah_kapal)"
   ]
  },
  {
   "cell_type": "code",
   "execution_count": 2,
   "id": "f5b74441",
   "metadata": {},
   "outputs": [
    {
     "name": "stdout",
     "output_type": "stream",
     "text": [
      "Daftar kolom:\n",
      "Index(['msg_mmsi', 'msg_kind', 'msg_repeat', 'data_lat', 'data_lon',\n",
      "       'data_nav', 'data_rot', 'data_sog', 'data_cog', 'data_head', 'data_utc',\n",
      "       'dt_last', 'ship_name', 'ship_csign', 'shipkind_id', 'shipflag_id',\n",
      "       'ship_gt', 'ship_dwt', 'ship_lbp', 'ship_loa', 'ship_draft',\n",
      "       'ship_depth', 'ship_beam', 'ship_build_int', 'ship_build_str',\n",
      "       'ship_class', 'shipkind_name', 'flag_name\\', 'dt_date time1',\n",
      "       'dt_date time2'],\n",
      "      dtype='object')\n"
     ]
    }
   ],
   "source": [
    "print(\"Daftar kolom:\")\n",
    "print(data_frame.columns)"
   ]
  },
  {
   "cell_type": "code",
   "execution_count": 3,
   "id": "b724f7af",
   "metadata": {},
   "outputs": [],
   "source": [
    "# Konversi kolom dt_date.time1 menjadi tipe datetime\n",
    "data_frame['dt_date.time1'] = pd.to_datetime(data_frame['dt_date time1'])"
   ]
  },
  {
   "cell_type": "code",
   "execution_count": 4,
   "id": "ed7f937c",
   "metadata": {},
   "outputs": [
    {
     "name": "stdout",
     "output_type": "stream",
     "text": [
      "Summary data setelah langkah 1:\n",
      "           msg_mmsi      msg_kind  msg_repeat      data_lat      data_lon  \\\n",
      "count  3.216862e+06  3.216862e+06   3216862.0  3.216862e+06  3.216862e+06   \n",
      "mean   5.148521e+08  2.010783e+00         0.0 -5.901589e+00  1.060392e+02   \n",
      "std    5.521730e+07  3.694807e+00         0.0  1.224679e-01  2.197182e-01   \n",
      "min    1.000000e+08  1.000000e+00         0.0 -7.053450e+00  1.046311e+02   \n",
      "25%    5.250054e+08  1.000000e+00         0.0 -5.957500e+00  1.059682e+02   \n",
      "50%    5.250171e+08  1.000000e+00         0.0 -5.934120e+00  1.059874e+02   \n",
      "75%    5.251006e+08  1.000000e+00         0.0 -5.877890e+00  1.061081e+02   \n",
      "max    8.686149e+08  1.900000e+01         0.0 -5.087170e+00  1.074605e+02   \n",
      "\n",
      "           data_nav      data_rot      data_sog      data_cog     data_head  \\\n",
      "count  3.216862e+06  3.216862e+06  3.216862e+06  3.216862e+06  3.216862e+06   \n",
      "mean   2.351376e+00 -7.440752e+01  3.666923e+00  1.773420e+02  3.678363e+02   \n",
      "std    4.546512e+00  6.605966e+01  6.218892e+00  1.042454e+02  1.896932e+02   \n",
      "min    0.000000e+00 -1.280000e+02  0.000000e+00  0.000000e+00  0.000000e+00   \n",
      "25%    0.000000e+00 -1.280000e+02  0.000000e+00  8.800000e+01  1.950000e+02   \n",
      "50%    0.000000e+00 -1.280000e+02  0.000000e+00  1.830000e+02  5.110000e+02   \n",
      "75%    1.000000e+00  0.000000e+00  7.500000e+00  2.710000e+02  5.110000e+02   \n",
      "max    1.500000e+01  1.270000e+02  1.020000e+02  4.090000e+02  5.110000e+02   \n",
      "\n",
      "       ...   shipkind_id   shipflag_id       ship_gt      ship_dwt  \\\n",
      "count  ...  3.216862e+06  3.216862e+06  3.216862e+06  3.216862e+06   \n",
      "mean   ...  2.006942e+02  6.742752e+01  9.146918e+03  1.117675e+04   \n",
      "std    ...  1.501279e+02  3.735815e+01  1.839088e+04  3.390310e+04   \n",
      "min    ...  1.000000e+00  1.000000e+00  0.000000e+00  0.000000e+00   \n",
      "25%    ...  1.030000e+02  8.000000e+01  4.470000e+02  1.510000e+02   \n",
      "50%    ...  1.490000e+02  8.000000e+01  4.824000e+03  2.083000e+03   \n",
      "75%    ...  3.590000e+02  8.000000e+01  8.274000e+03  4.879000e+03   \n",
      "max    ...  4.430000e+02  2.540000e+02  1.951990e+05  3.880790e+05   \n",
      "\n",
      "           ship_lbp      ship_loa    ship_draft    ship_depth     ship_beam  \\\n",
      "count  3.216862e+06  3.216862e+06  3.216862e+06  3.216862e+06  3.216862e+06   \n",
      "mean   5.563794e+01  9.215157e+01  4.554771e+00  4.994037e+00  1.559665e+01   \n",
      "std    6.894791e+01  6.786193e+01  4.105318e+00  6.573731e+00  1.138486e+01   \n",
      "min    0.000000e+00  0.000000e+00  0.000000e+00  0.000000e+00  0.000000e+00   \n",
      "25%    0.000000e+00  3.020000e+01  0.000000e+00  0.000000e+00  7.320000e+00   \n",
      "50%    0.000000e+00  9.769000e+01  4.600000e+00  0.000000e+00  1.700000e+01   \n",
      "75%    1.034100e+02  1.205800e+02  5.920000e+00  7.800000e+00  2.043000e+01   \n",
      "max    3.456000e+02  1.200000e+03  2.320000e+01  3.480000e+01  7.000000e+01   \n",
      "\n",
      "       ship_build_int  \n",
      "count    3.216862e+06  \n",
      "mean     7.089119e+08  \n",
      "std      5.494810e+08  \n",
      "min     -1.262556e+08  \n",
      "25%      9.466920e+07  \n",
      "50%      6.941988e+08  \n",
      "75%      1.293815e+09  \n",
      "max      1.577812e+09  \n",
      "\n",
      "[8 rows x 22 columns]\n",
      "Jumlah data setelah langkah 1: 3216862\n",
      "Jumlah kapal: 1740\n"
     ]
    }
   ],
   "source": [
    "# Langkah 1: Filter berdasarkan tanggal\n",
    "start_date = pd.to_datetime('2021-05-01')\n",
    "end_date = pd.to_datetime('2021-05-30')\n",
    "filtered_data1 = data_frame[(data_frame['dt_date.time1'] >= start_date) & (data_frame['dt_date.time1'] <= end_date)]\n",
    "\n",
    "# Menampilkan summary data dan jumlah data\n",
    "print(\"Summary data setelah langkah 1:\")\n",
    "print(filtered_data1.describe())\n",
    "print(\"Jumlah data setelah langkah 1:\", filtered_data1.shape[0])\n",
    "\n",
    "jumlah_kapal1 = filtered_data1['msg_mmsi'].nunique()\n",
    "print(\"Jumlah kapal:\", jumlah_kapal1)"
   ]
  },
  {
   "cell_type": "code",
   "execution_count": 5,
   "id": "f527c900",
   "metadata": {},
   "outputs": [
    {
     "name": "stdout",
     "output_type": "stream",
     "text": [
      "Summary data setelah langkah 3:\n",
      "           msg_mmsi      msg_kind  msg_repeat      data_lat      data_lon  \\\n",
      "count  3.212055e+06  3.212055e+06   3212055.0  3.212055e+06  3.212055e+06   \n",
      "mean   5.148224e+08  2.011761e+00         0.0 -5.902247e+00  1.060390e+02   \n",
      "std    5.524108e+07  3.696904e+00         0.0  1.211018e-01  2.196997e-01   \n",
      "min    1.000000e+08  1.000000e+00         0.0 -7.053450e+00  1.046311e+02   \n",
      "25%    5.250054e+08  1.000000e+00         0.0 -5.957530e+00  1.059681e+02   \n",
      "50%    5.250171e+08  1.000000e+00         0.0 -5.934260e+00  1.059873e+02   \n",
      "75%    5.251006e+08  1.000000e+00         0.0 -5.878030e+00  1.061078e+02   \n",
      "max    8.686149e+08  1.900000e+01         0.0 -5.087170e+00  1.074605e+02   \n",
      "\n",
      "           data_nav      data_rot      data_sog      data_cog     data_head  \\\n",
      "count  3.212055e+06  3.212055e+06  3.212055e+06  3.212055e+06  3.212055e+06   \n",
      "mean   2.353607e+00 -7.451501e+01  3.520818e+00  1.770727e+02  3.681378e+02   \n",
      "std    4.549450e+00  6.604560e+01  4.937442e+00  1.040856e+02  1.896293e+02   \n",
      "min    0.000000e+00 -1.280000e+02  0.000000e+00  0.000000e+00  0.000000e+00   \n",
      "25%    0.000000e+00 -1.280000e+02  0.000000e+00  8.800000e+01  1.960000e+02   \n",
      "50%    0.000000e+00 -1.280000e+02  0.000000e+00  1.820000e+02  5.110000e+02   \n",
      "75%    1.000000e+00  0.000000e+00  7.500000e+00  2.710000e+02  5.110000e+02   \n",
      "max    1.500000e+01  1.270000e+02  2.950000e+01  4.090000e+02  5.110000e+02   \n",
      "\n",
      "       ...   shipkind_id   shipflag_id       ship_gt      ship_dwt  \\\n",
      "count  ...  3.212055e+06  3.212055e+06  3.212055e+06  3.212055e+06   \n",
      "mean   ...  2.009795e+02  6.751725e+01  9.159985e+03  1.119284e+04   \n",
      "std    ...  1.500509e+02  3.730253e+01  1.840121e+04  3.392571e+04   \n",
      "min    ...  1.000000e+00  1.000000e+00  0.000000e+00  0.000000e+00   \n",
      "25%    ...  1.030000e+02  8.000000e+01  4.470000e+02  1.540000e+02   \n",
      "50%    ...  1.490000e+02  8.000000e+01  4.884000e+03  2.083000e+03   \n",
      "75%    ...  3.590000e+02  8.000000e+01  8.274000e+03  4.879000e+03   \n",
      "max    ...  4.430000e+02  2.540000e+02  1.951990e+05  3.880790e+05   \n",
      "\n",
      "           ship_lbp      ship_loa    ship_draft    ship_depth     ship_beam  \\\n",
      "count  3.212055e+06  3.212055e+06  3.212055e+06  3.212055e+06  3.212055e+06   \n",
      "mean   5.571296e+01  9.227921e+01  4.561001e+00  5.000751e+00  1.561817e+01   \n",
      "std    6.896635e+01  6.782453e+01  4.104800e+00  6.575820e+00  1.137834e+01   \n",
      "min    0.000000e+00  0.000000e+00  0.000000e+00  0.000000e+00  0.000000e+00   \n",
      "25%    0.000000e+00  3.020000e+01  0.000000e+00  0.000000e+00  7.320000e+00   \n",
      "50%    0.000000e+00  9.817000e+01  4.600000e+00  0.000000e+00  1.700000e+01   \n",
      "75%    1.034100e+02  1.205800e+02  5.920000e+00  7.800000e+00  2.043000e+01   \n",
      "max    3.456000e+02  1.200000e+03  2.320000e+01  3.480000e+01  7.000000e+01   \n",
      "\n",
      "       ship_build_int  \n",
      "count    3.212055e+06  \n",
      "mean     7.098473e+08  \n",
      "std      5.492233e+08  \n",
      "min     -1.262556e+08  \n",
      "25%      9.466920e+07  \n",
      "50%      6.941988e+08  \n",
      "75%      1.293815e+09  \n",
      "max      1.577812e+09  \n",
      "\n",
      "[8 rows x 22 columns]\n",
      "Jumlah data setelah langkah 3: 3212055\n",
      "Jumlah kapal: 1737\n"
     ]
    }
   ],
   "source": [
    "# Langkah 2: Hapus pesan AIS dengan kecepatan tidak realistis (SOG ≥ 30 knots)\n",
    "# Mengurutkan data berdasarkan MMSI dan waktu\n",
    "filtered_data1 = filtered_data1.sort_values(by=['msg_mmsi', 'dt_date.time1'])\n",
    "\n",
    "filtered_data2 = filtered_data1[filtered_data1['data_sog'] < 30]\n",
    "\n",
    "filtered_data3 = filtered_data2[filtered_data2['data_nav'] != '0']\n",
    "\n",
    "# Menampilkan summary data dan jumlah data\n",
    "print(\"Summary data setelah langkah 3:\")\n",
    "print(filtered_data3.describe())\n",
    "print(\"Jumlah data setelah langkah 3:\", filtered_data3.shape[0])\n",
    "\n",
    "jumlah_kapal3 = filtered_data3['msg_mmsi'].nunique()\n",
    "print(\"Jumlah kapal:\", jumlah_kapal3)"
   ]
  },
  {
   "cell_type": "code",
   "execution_count": 6,
   "id": "40b7cfb8",
   "metadata": {},
   "outputs": [
    {
     "name": "stdout",
     "output_type": "stream",
     "text": [
      "          msg_mmsi  msg_kind  msg_repeat  data_lat   data_lon  data_nav  \\\n",
      "895059   100000000         1           0  -6.09692  106.88676         0   \n",
      "898458   100000000         1           0  -6.08923  106.88496         0   \n",
      "912263   100000000         1           0  -6.07502  106.88165         0   \n",
      "917635   100000000         1           0  -6.10105  106.88769         0   \n",
      "2034281  100000000         3           0  -5.95531  105.98379        15   \n",
      "...            ...       ...         ...       ...        ...       ...   \n",
      "3411694  810016036        18           0  -5.97872  106.11848         0   \n",
      "3412086  810016036        18           0  -5.98180  106.11608         0   \n",
      "3412624  810016036        18           0  -5.97851  106.11576         0   \n",
      "3413271  810016036        18           0  -5.96020  106.11467         0   \n",
      "2497260  868614888         1           0  -5.81522  106.10093         0   \n",
      "\n",
      "         data_rot  data_sog  data_cog  data_head  ...  ship_build_int  \\\n",
      "895059     -128.0       0.0       296        511  ...               0   \n",
      "898458     -128.0       6.5       149        511  ...               0   \n",
      "912263     -128.0       2.5        50        511  ...               0   \n",
      "917635     -128.0       6.0       176        511  ...               0   \n",
      "2034281    -128.0       0.0         0        511  ...               0   \n",
      "...           ...       ...       ...        ...  ...             ...   \n",
      "3411694       0.0       7.0       201        511  ...               0   \n",
      "3412086       0.0       5.5       168        511  ...               0   \n",
      "3412624       0.0       7.0         1        511  ...               0   \n",
      "3413271       0.0      15.5       343        511  ...               0   \n",
      "2497260    -128.0      11.0        98        511  ...               0   \n",
      "\n",
      "         ship_build_str ship_class            shipkind_name  flag_name\\  \\\n",
      "895059              NaN        NaN                  unknown       NULL\\   \n",
      "898458              NaN        NaN                  unknown       NULL\\   \n",
      "912263              NaN        NaN                  unknown       NULL\\   \n",
      "917635              NaN        NaN                  unknown       NULL\\   \n",
      "2034281             NaN        NaN                  unknown       NULL\\   \n",
      "...                 ...        ...                      ...         ...   \n",
      "3411694             NaN        NaN  Reserved for future use       NULL\\   \n",
      "3412086             NaN        NaN  Reserved for future use       NULL\\   \n",
      "3412624             NaN        NaN  Reserved for future use       NULL\\   \n",
      "3413271             NaN        NaN  Reserved for future use       NULL\\   \n",
      "2497260             NaN        NaN                  unknown       NULL\\   \n",
      "\n",
      "                dt_date time1        dt_date time2       dt_date.time1  \\\n",
      "895059    05/09/2021 05:26 AM  05/09/2021 05:26:58 2021-05-09 05:26:00   \n",
      "898458    05/09/2021 05:46 AM  05/09/2021 05:46:03 2021-05-09 05:46:00   \n",
      "912263    05/09/2021 07:16 AM  05/09/2021 07:16:44 2021-05-09 07:16:00   \n",
      "917635    05/09/2021 07:51 AM  05/09/2021 07:51:12 2021-05-09 07:51:00   \n",
      "2034281   05/15/2021 09:45 PM  05/15/2021 21:45:34 2021-05-15 21:45:00   \n",
      "...                       ...                  ...                 ...   \n",
      "3411694   05/29/2021 04:30 PM  05/29/2021 16:30:04 2021-05-29 16:30:00   \n",
      "3412086   05/29/2021 04:32 PM  05/29/2021 16:32:29 2021-05-29 16:32:00   \n",
      "3412624   05/29/2021 04:35 PM  05/29/2021 16:35:17 2021-05-29 16:35:00   \n",
      "3413271   05/29/2021 04:40 PM  05/29/2021 16:40:57 2021-05-29 16:40:00   \n",
      "2497260   05/25/2021 10:28 AM  05/25/2021 10:28:57 2021-05-25 10:28:00   \n",
      "\n",
      "              time_diff  continuous_trip  \n",
      "895059              NaT                0  \n",
      "898458  0 days 00:20:00                0  \n",
      "912263  0 days 01:30:00                0  \n",
      "917635  0 days 00:35:00                0  \n",
      "2034281 6 days 13:54:00                1  \n",
      "...                 ...              ...  \n",
      "3411694 0 days 00:02:00                0  \n",
      "3412086 0 days 00:02:00                0  \n",
      "3412624 0 days 00:03:00                0  \n",
      "3413271 0 days 00:05:00                0  \n",
      "2497260             NaT                0  \n",
      "\n",
      "[3212055 rows x 33 columns]\n",
      "Jumlah data setelah langkah 4: 3212055\n"
     ]
    }
   ],
   "source": [
    "import pandas as pd\n",
    "import numpy as np\n",
    "\n",
    "# Menghitung selisih waktu antara dua pesan AIS berturut-turut\n",
    "filtered_data3['time_diff'] = filtered_data3.groupby('msg_mmsi')['dt_date.time1'].diff()\n",
    "\n",
    "# Menentukan selisih waktu maksimum\n",
    "max_time_diff = pd.Timedelta(hours=2)\n",
    "\n",
    "# Membuat kolom baru untuk menandai perjalanan yang berkesinambungan\n",
    "filtered_data4 = filtered_data3.copy()\n",
    "filtered_data4['continuous_trip'] = np.where(filtered_data4['time_diff'] <= max_time_diff, 0, 1)\n",
    "\n",
    "# Mengatur nilai continuous_trip menjadi 0 untuk data pertama tiap kapal\n",
    "first_index = filtered_data4.groupby('msg_mmsi').head(1).index\n",
    "filtered_data4.loc[first_index, 'continuous_trip'] = 0\n",
    "\n",
    "# Menampilkan summary data dan jumlah data\n",
    "print(filtered_data4)\n",
    "print(\"Jumlah data setelah langkah 4:\", filtered_data4.shape[0])"
   ]
  },
  {
   "cell_type": "code",
   "execution_count": 7,
   "id": "0d129768",
   "metadata": {},
   "outputs": [
    {
     "name": "stdout",
     "output_type": "stream",
     "text": [
      "Jumlah data dengan kategori 0: 3204959\n",
      "Jumlah data dengan kategori 1: 7096\n"
     ]
    }
   ],
   "source": [
    "# Menghitung jumlah data dengan kategori 0 dan 1 pada kolom 'continuous_trip'\n",
    "count_0 = filtered_data4[filtered_data4['continuous_trip'] == 0].shape[0]\n",
    "count_1 = filtered_data4[filtered_data4['continuous_trip'] == 1].shape[0]\n",
    "\n",
    "print(\"Jumlah data dengan kategori 0:\", count_0)\n",
    "print(\"Jumlah data dengan kategori 1:\", count_1)"
   ]
  },
  {
   "cell_type": "code",
   "execution_count": 8,
   "id": "042a5962",
   "metadata": {},
   "outputs": [
    {
     "name": "stdout",
     "output_type": "stream",
     "text": [
      "Summary data setelah langkah 5:\n",
      "           msg_mmsi      msg_kind  msg_repeat      data_lat      data_lon  \\\n",
      "count  3.209578e+06  3.209578e+06   3209578.0  3.209578e+06  3.209578e+06   \n",
      "mean   5.148195e+08  2.006721e+00         0.0 -5.902309e+00  1.060386e+02   \n",
      "std    5.523480e+07  3.686968e+00         0.0  1.209527e-01  2.190257e-01   \n",
      "min    1.234568e+08  1.000000e+00         0.0 -7.053450e+00  1.046311e+02   \n",
      "25%    5.250054e+08  1.000000e+00         0.0 -5.957520e+00  1.059681e+02   \n",
      "50%    5.250171e+08  1.000000e+00         0.0 -5.934280e+00  1.059873e+02   \n",
      "75%    5.251006e+08  1.000000e+00         0.0 -5.878070e+00  1.061078e+02   \n",
      "max    8.100160e+08  1.900000e+01         0.0 -5.087170e+00  1.074605e+02   \n",
      "\n",
      "           data_nav      data_rot      data_sog      data_cog     data_head  \\\n",
      "count  3.209578e+06  3.209578e+06  3.209578e+06  3.209578e+06  3.209578e+06   \n",
      "mean   2.354232e+00 -7.454517e+01  3.519801e+00  1.770780e+02  3.681310e+02   \n",
      "std    4.550327e+00  6.604206e+01  4.937479e+00  1.040803e+02  1.896329e+02   \n",
      "min    0.000000e+00 -1.280000e+02  0.000000e+00  0.000000e+00  0.000000e+00   \n",
      "25%    0.000000e+00 -1.280000e+02  0.000000e+00  8.800000e+01  1.960000e+02   \n",
      "50%    0.000000e+00 -1.280000e+02  0.000000e+00  1.820000e+02  5.110000e+02   \n",
      "75%    1.000000e+00  0.000000e+00  7.500000e+00  2.710000e+02  5.110000e+02   \n",
      "max    1.500000e+01  1.270000e+02  2.950000e+01  4.090000e+02  5.110000e+02   \n",
      "\n",
      "       ...       ship_gt      ship_dwt      ship_lbp      ship_loa  \\\n",
      "count  ...  3.209578e+06  3.209578e+06  3.209578e+06  3.209578e+06   \n",
      "mean   ...  9.161917e+03  1.119416e+04  5.572418e+01  9.230247e+01   \n",
      "std    ...  1.840423e+04  3.393311e+04  6.896239e+01  6.780930e+01   \n",
      "min    ...  0.000000e+00  0.000000e+00  0.000000e+00  0.000000e+00   \n",
      "25%    ...  4.470000e+02  1.640000e+02  0.000000e+00  3.020000e+01   \n",
      "50%    ...  4.884000e+03  2.083000e+03  0.000000e+00  9.817000e+01   \n",
      "75%    ...  8.274000e+03  4.879000e+03  1.034100e+02  1.205800e+02   \n",
      "max    ...  1.951990e+05  3.880790e+05  3.456000e+02  1.200000e+03   \n",
      "\n",
      "         ship_draft    ship_depth     ship_beam  ship_build_int  \\\n",
      "count  3.209578e+06  3.209578e+06  3.209578e+06    3.209578e+06   \n",
      "mean   4.561895e+00  5.001763e+00  1.562222e+01    7.099697e+08   \n",
      "std    4.104430e+00  6.575738e+00  1.137650e+01    5.491636e+08   \n",
      "min    0.000000e+00  0.000000e+00  0.000000e+00   -1.262556e+08   \n",
      "25%    0.000000e+00  0.000000e+00  7.320000e+00    9.466920e+07   \n",
      "50%    4.600000e+00  0.000000e+00  1.700000e+01    6.941988e+08   \n",
      "75%    5.920000e+00  7.900000e+00  2.043000e+01    1.293815e+09   \n",
      "max    2.320000e+01  3.480000e+01  7.000000e+01    1.577812e+09   \n",
      "\n",
      "                       time_diff  continuous_trip  \n",
      "count                    3208102     3.209578e+06  \n",
      "mean   0 days 00:05:17.295329138     2.139222e-03  \n",
      "std    0 days 03:35:54.492362719     4.620223e-02  \n",
      "min              0 days 00:00:00     0.000000e+00  \n",
      "25%              0 days 00:00:00     0.000000e+00  \n",
      "50%              0 days 00:00:00     0.000000e+00  \n",
      "75%              0 days 00:01:00     0.000000e+00  \n",
      "max             24 days 14:38:00     1.000000e+00  \n",
      "\n",
      "[8 rows x 24 columns]\n",
      "Jumlah data setelah langkah 5: 3209578\n",
      "Jumlah kapal: 1476\n"
     ]
    }
   ],
   "source": [
    "# Langkah 5: Hapus kapal dengan kurang dari 20 baris data AIS\n",
    "min_data_count = 30\n",
    "\n",
    "# Menghitung jumlah baris data AIS per kapal\n",
    "ais_counts = filtered_data4['msg_mmsi'].value_counts()\n",
    "\n",
    "# Membuat daftar MMSI kapal yang memiliki setidaknya 20 baris data AIS\n",
    "valid_mmsi_list = ais_counts[ais_counts >= min_data_count].index.tolist()\n",
    "\n",
    "# Menggunakan daftar MMSI valid untuk memfilter data\n",
    "filtered_data5 = filtered_data4[filtered_data4['msg_mmsi'].isin(valid_mmsi_list)]\n",
    "\n",
    "# Menampilkan summary data dan jumlah data\n",
    "print(\"Summary data setelah langkah 5:\")\n",
    "print(filtered_data5.describe())\n",
    "print(\"Jumlah data setelah langkah 5:\", filtered_data5.shape[0])\n",
    "\n",
    "jumlah_kapal5 = filtered_data5['msg_mmsi'].nunique()\n",
    "print(\"Jumlah kapal:\", jumlah_kapal5)"
   ]
  },
  {
   "cell_type": "code",
   "execution_count": 9,
   "id": "01375661",
   "metadata": {},
   "outputs": [
    {
     "name": "stdout",
     "output_type": "stream",
     "text": [
      "Summary data setelah langkah 6:\n",
      "           msg_mmsi      msg_kind  msg_repeat      data_lat      data_lon  \\\n",
      "count  3.198727e+06  3.198727e+06   3198727.0  3.198727e+06  3.198727e+06   \n",
      "mean   5.148560e+08  2.001954e+00         0.0 -5.902520e+00  1.060386e+02   \n",
      "std    5.506255e+07  3.676436e+00         0.0  1.204483e-01  2.179279e-01   \n",
      "min    1.234568e+08  1.000000e+00         0.0 -7.053450e+00  1.046311e+02   \n",
      "25%    5.250054e+08  1.000000e+00         0.0 -5.957510e+00  1.059683e+02   \n",
      "50%    5.250171e+08  1.000000e+00         0.0 -5.934440e+00  1.059873e+02   \n",
      "75%    5.251006e+08  1.000000e+00         0.0 -5.878320e+00  1.061078e+02   \n",
      "max    8.100160e+08  1.900000e+01         0.0 -5.087170e+00  1.074605e+02   \n",
      "\n",
      "           data_nav      data_rot      data_sog      data_cog     data_head  \\\n",
      "count  3.198727e+06  3.198727e+06  3.198727e+06  3.198727e+06  3.198727e+06   \n",
      "mean   2.360276e+00 -7.473334e+01  3.491650e+00  1.771130e+02  3.685284e+02   \n",
      "std    4.554958e+00  6.601938e+01  4.914259e+00  1.041071e+02  1.895669e+02   \n",
      "min    0.000000e+00 -1.280000e+02  0.000000e+00  0.000000e+00  0.000000e+00   \n",
      "25%    0.000000e+00 -1.280000e+02  0.000000e+00  8.800000e+01  1.960000e+02   \n",
      "50%    0.000000e+00 -1.280000e+02  0.000000e+00  1.820000e+02  5.110000e+02   \n",
      "75%    1.000000e+00  0.000000e+00  7.500000e+00  2.710000e+02  5.110000e+02   \n",
      "max    1.500000e+01  1.270000e+02  2.950000e+01  4.090000e+02  5.110000e+02   \n",
      "\n",
      "       ...       ship_gt      ship_dwt      ship_lbp      ship_loa  \\\n",
      "count  ...  3.198727e+06  3.198727e+06  3.198727e+06  3.198727e+06   \n",
      "mean   ...  9.098480e+03  1.112182e+04  5.557894e+01  9.217424e+01   \n",
      "std    ...  1.829939e+04  3.381934e+04  6.875220e+01  6.759669e+01   \n",
      "min    ...  0.000000e+00  0.000000e+00  0.000000e+00  0.000000e+00   \n",
      "25%    ...  4.950000e+02  1.800000e+02  0.000000e+00  3.020000e+01   \n",
      "50%    ...  4.884000e+03  2.083000e+03  0.000000e+00  9.800000e+01   \n",
      "75%    ...  8.274000e+03  4.608000e+03  1.034100e+02  1.205800e+02   \n",
      "max    ...  1.951990e+05  3.880790e+05  3.456000e+02  1.200000e+03   \n",
      "\n",
      "         ship_draft    ship_depth     ship_beam  ship_build_int  \\\n",
      "count  3.198727e+06  3.198727e+06  3.198727e+06    3.198727e+06   \n",
      "mean   4.553786e+00  4.989453e+00  1.560634e+01    7.096876e+08   \n",
      "std    4.094766e+00  6.561048e+00  1.135226e+01    5.490921e+08   \n",
      "min    0.000000e+00  0.000000e+00  0.000000e+00   -1.262556e+08   \n",
      "25%    0.000000e+00  0.000000e+00  7.320000e+00    9.466920e+07   \n",
      "50%    4.600000e+00  0.000000e+00  1.700000e+01    6.941988e+08   \n",
      "75%    5.920000e+00  7.800000e+00  2.043000e+01    1.293815e+09   \n",
      "max    2.320000e+01  3.480000e+01  7.000000e+01    1.577812e+09   \n",
      "\n",
      "                       time_diff  continuous_trip  \n",
      "count                    3197324     3.198727e+06  \n",
      "mean   0 days 00:05:18.136235176     2.146479e-03  \n",
      "std    0 days 03:36:16.294751981     4.628037e-02  \n",
      "min              0 days 00:00:00     0.000000e+00  \n",
      "25%              0 days 00:00:00     0.000000e+00  \n",
      "50%              0 days 00:00:00     0.000000e+00  \n",
      "75%              0 days 00:01:00     0.000000e+00  \n",
      "max             24 days 14:38:00     1.000000e+00  \n",
      "\n",
      "[8 rows x 24 columns]\n",
      "Jumlah data setelah langkah 6: 3198727\n",
      "Jumlah kapal: 1403\n"
     ]
    }
   ],
   "source": [
    "min_trip_duration = pd.Timedelta(hours=4)\n",
    "filtered_data6 = filtered_data5.groupby('msg_mmsi').filter(lambda x: x['time_diff'].sum() >= min_trip_duration)\n",
    "\n",
    "# Menampilkan summary data dan jumlah data\n",
    "print(\"Summary data setelah langkah 6:\")\n",
    "print(filtered_data6.describe())\n",
    "print(\"Jumlah data setelah langkah 6:\", filtered_data6.shape[0])\n",
    "jumlah_kapal6 = filtered_data6['msg_mmsi'].nunique()\n",
    "print(\"Jumlah kapal:\", jumlah_kapal6)"
   ]
  },
  {
   "cell_type": "code",
   "execution_count": 10,
   "id": "b86d0c39",
   "metadata": {},
   "outputs": [
    {
     "name": "stdout",
     "output_type": "stream",
     "text": [
      "Jumlah data setelah filtering: 1392552\n",
      "Jumlah kapal: 1403\n"
     ]
    }
   ],
   "source": [
    "# Langkah 7: Menghitung kecepatan empiris dan hapus pesan abnormal dengan kecepatan empiris di atas 40 knots\n",
    "import numpy as np\n",
    "\n",
    "# Mengurutkan data berdasarkan MMSI dan waktu\n",
    "filtered_data7= filtered_data6.sort_values(by=['msg_mmsi', 'dt_date.time1'])\n",
    "\n",
    "# Menghitung jarak antara dua titik koordinat menggunakan haversine formula\n",
    "def haversine(lat1, lon1, lat2, lon2):\n",
    "    R = 6371  # Radius bumi dalam kilometer\n",
    "    dlat = np.radians(lat2 - lat1)\n",
    "    dlon = np.radians(lon2 - lon1)\n",
    "    a = np.sin(dlat / 2) ** 2 + np.cos(np.radians(lat1)) * np.cos(np.radians(lat2)) * np.sin(dlon / 2) ** 2\n",
    "    c = 2 * np.arctan2(np.sqrt(a), np.sqrt(1 - a))\n",
    "    distance = R * c\n",
    "    return distance\n",
    "\n",
    "# Menghitung jarak antara dua pesan AIS\n",
    "filtered_data7['distance'] = haversine(filtered_data7['data_lat'].shift(), filtered_data7['data_lon'].shift(), filtered_data7['data_lat'], filtered_data7['data_lon'])\n",
    "\n",
    "# Menghapus data dengan selisih waktu NaN\n",
    "filtered_data7 = filtered_data7.dropna(subset=['time_diff'])\n",
    "\n",
    "# Mengonversi timedelta menjadi jumlah detik (integer)\n",
    "filtered_data7['time_diff_seconds'] = filtered_data7['time_diff'].dt.total_seconds()\n",
    "\n",
    "# Menghitung kecepatan empiris (dalam kilometer per jam)\n",
    "filtered_data7['empirical_speed'] = filtered_data7['distance'] / ((filtered_data7['time_diff_seconds'] / 3600))\n",
    "\n",
    "# Menghapus pesan dengan kecepatan empiris di atas 40 knots (74.08 km/jam)\n",
    "filtered_data8 = filtered_data7[filtered_data7['empirical_speed'] < 40*1.852]\n",
    "\n",
    "# Menampilkan summary data dan jumlah data\n",
    "print(\"Jumlah data setelah filtering:\", filtered_data8.shape[0])\n",
    "jumlah_kapal8 = filtered_data8['msg_mmsi'].nunique()\n",
    "print(\"Jumlah kapal:\", jumlah_kapal8)"
   ]
  },
  {
   "cell_type": "code",
   "execution_count": 11,
   "id": "dba34330",
   "metadata": {},
   "outputs": [
    {
     "name": "stdout",
     "output_type": "stream",
     "text": [
      "       msg_mmsi  jumlah_data_sebelum  jumlah_data_sesudah\n",
      "0     525005357                77532                17709\n",
      "1     525019545                72029                19084\n",
      "2     525000033                65473                16399\n",
      "3     525017090                56091                17655\n",
      "4     525007232                49812                17621\n",
      "...         ...                  ...                  ...\n",
      "1398  525016441                   31                   31\n",
      "1399  477669400                   31                   22\n",
      "1400  525015534                   30                   23\n",
      "1401  525400142                   29                   27\n",
      "1402  525020293                   29                   27\n",
      "\n",
      "[1403 rows x 3 columns]\n"
     ]
    }
   ],
   "source": [
    "# Menghitung jumlah data masing-masing kapal sebelum preprocessing\n",
    "jumlah_data_sebelum = filtered_data7['msg_mmsi'].value_counts().reset_index()\n",
    "jumlah_data_sebelum.columns = ['msg_mmsi', 'jumlah_data_sebelum']\n",
    "\n",
    "# Menghitung jumlah data masing-masing kapal setelah preprocessing\n",
    "jumlah_data_sesudah = filtered_data8['msg_mmsi'].value_counts().reset_index()\n",
    "jumlah_data_sesudah.columns = ['msg_mmsi', 'jumlah_data_sesudah']\n",
    "\n",
    "# Menggabungkan data jumlah data sebelum dan sesudah preprocessing\n",
    "data_perubahan = jumlah_data_sebelum.merge(jumlah_data_sesudah, on='msg_mmsi', how='outer')\n",
    "\n",
    "# Menampilkan data perubahan\n",
    "print(data_perubahan)"
   ]
  },
  {
   "cell_type": "code",
   "execution_count": 12,
   "id": "28445484",
   "metadata": {},
   "outputs": [
    {
     "name": "stdout",
     "output_type": "stream",
     "text": [
      "Jumlah data setelah filtering: 568670\n",
      "Jumlah kapal: 1403\n"
     ]
    }
   ],
   "source": [
    "import pandas as pd\n",
    "\n",
    "# Mengurutkan data berdasarkan MMSI dan waktu\n",
    "filtered_data8 = filtered_data8.sort_values(by=['msg_mmsi', 'dt_date.time1'])\n",
    "\n",
    "# Menambahkan kolom baru 'previous_time' yang berisi waktu sebelumnya untuk setiap kapal\n",
    "filtered_data8['previous_time'] = filtered_data8.groupby('msg_mmsi')['dt_date.time1'].shift(1)\n",
    "\n",
    "# Menghitung selisih waktu antara waktu saat ini dan waktu sebelumnya (dalam detik)\n",
    "filtered_data8['time_diff'] = (filtered_data8['dt_date.time1'] - filtered_data8['previous_time']).dt.total_seconds()\n",
    "\n",
    "# Mengidentifikasi data yang berada dalam interval waktu yang sama (dalam hal ini, 1 menit)\n",
    "filtered_data8['is_duplicate_within_1_minute'] = (filtered_data8['time_diff'] <= 60) & (filtered_data8['time_diff'] >= 0)\n",
    "\n",
    "# Memfilter data untuk hanya menyertakan data yang bukan duplikat dalam 1 menit\n",
    "filtered_data9 = filtered_data8[~filtered_data8['is_duplicate_within_1_minute']]\n",
    "\n",
    "# Menghapus kolom-kolom tambahan yang tidak diperlukan lagi\n",
    "filtered_data9 = filtered_data9.drop(columns=['previous_time', 'time_diff', 'is_duplicate_within_1_minute'])\n",
    "\n",
    "# Menampilkan summary data dan jumlah data\n",
    "print(\"Jumlah data setelah filtering:\", filtered_data9.shape[0])\n",
    "jumlah_kapal9 = filtered_data9['msg_mmsi'].nunique()\n",
    "print(\"Jumlah kapal:\", jumlah_kapal9)\n"
   ]
  },
  {
   "cell_type": "code",
   "execution_count": 14,
   "id": "9305e39e",
   "metadata": {},
   "outputs": [],
   "source": [
    "import pandas as pd\n",
    "\n",
    "# Simpan filtered_data7 ke dalam file CSV\n",
    "filtered_data9.to_csv('preprocessed_568670.csv', index=False)"
   ]
  },
  {
   "cell_type": "code",
   "execution_count": 15,
   "id": "773982ff",
   "metadata": {},
   "outputs": [],
   "source": [
    "# Simpan filtered_data ke dalam file CSV\n",
    "filtered_data8.to_csv('preprocessed_1392552.csv', index=False)"
   ]
  },
  {
   "cell_type": "code",
   "execution_count": 13,
   "id": "4066fd3a",
   "metadata": {},
   "outputs": [
    {
     "name": "stdout",
     "output_type": "stream",
     "text": [
      "       msg_mmsi  jumlah_data_sebelum  jumlah_data_sesudah\n",
      "0     525019545                19084                 2683\n",
      "1     525005357                17709                 2949\n",
      "2     525017090                17655                 3023\n",
      "3     525007232                17621                 3385\n",
      "4     525019409                16727                 3175\n",
      "...         ...                  ...                  ...\n",
      "1398  525006213                   23                   15\n",
      "1399  477669400                   22                   19\n",
      "1400  525010156                   20                   10\n",
      "1401  564911000                   20                   14\n",
      "1402  351621000                   18                   15\n",
      "\n",
      "[1403 rows x 3 columns]\n"
     ]
    }
   ],
   "source": [
    "# Menghitung jumlah data masing-masing kapal sebelum preprocessing\n",
    "jumlah_data_sebelum = filtered_data8['msg_mmsi'].value_counts().reset_index()\n",
    "jumlah_data_sebelum.columns = ['msg_mmsi', 'jumlah_data_sebelum']\n",
    "\n",
    "# Menghitung jumlah data masing-masing kapal setelah preprocessing\n",
    "jumlah_data_sesudah = filtered_data9['msg_mmsi'].value_counts().reset_index()\n",
    "jumlah_data_sesudah.columns = ['msg_mmsi', 'jumlah_data_sesudah']\n",
    "\n",
    "# Menggabungkan data jumlah data sebelum dan sesudah preprocessing\n",
    "data_perubahan = jumlah_data_sebelum.merge(jumlah_data_sesudah, on='msg_mmsi', how='outer')\n",
    "\n",
    "# Menampilkan data perubahan\n",
    "print(data_perubahan)"
   ]
  },
  {
   "cell_type": "code",
   "execution_count": null,
   "id": "aaf8b614",
   "metadata": {},
   "outputs": [],
   "source": []
  }
 ],
 "metadata": {
  "kernelspec": {
   "display_name": "Python 3 (ipykernel)",
   "language": "python",
   "name": "python3"
  },
  "language_info": {
   "codemirror_mode": {
    "name": "ipython",
    "version": 3
   },
   "file_extension": ".py",
   "mimetype": "text/x-python",
   "name": "python",
   "nbconvert_exporter": "python",
   "pygments_lexer": "ipython3",
   "version": "3.10.9"
  }
 },
 "nbformat": 4,
 "nbformat_minor": 5
}
